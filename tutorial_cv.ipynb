{
 "cells": [
  {
   "cell_type": "code",
   "execution_count": 1,
   "metadata": {},
   "outputs": [],
   "source": [
    "import numpy as np\n",
    "from math import sqrt\n",
    "from os.path import *\n",
    "import time\n",
    "import numba\n",
    "\n",
    "AU_2_EV = 27.211396"
   ]
  },
  {
   "cell_type": "markdown",
   "metadata": {},
   "source": [
    "### Coulomb Interaction\n",
    "Consider two molecules, each with excitation energies $E_1$ and $E_2$ and transition densities $\\rho_{eg}(\\mathbf{r}_1)$ and $\\rho_{eg}(\\mathbf{r}_2)$.  \n",
    "<img src=\"images/monomers.png\" alt=\"Drawing\" style=\"width: 400px;\"/>  \n",
    "When combined, the supramolecular system have will have new excited states with a splitting $\\Delta$  \n",
    "<img src=\"images/splitting.png\" alt=\"Drawing\" style=\"width: 500px;\"/>  \n",
    "This splitting depends on their Coulomb coupling,  \n",
    "<img src=\"images/eq_coulomb.png\" alt=\"Drawing\" style=\"width: 300px;\"/>  \n",
    "This can be approximated by dividing the density into a grid and summing over each density \"cubes\"  \n",
    "<img src=\"images/eq_coulomb_approx.png\" alt=\"Drawing\" style=\"width: 150px;\"/>\n",
    "<img src=\"images/cube_sum.png\" alt=\"Drawing\" style=\"width: 400px;\"/>\n"
   ]
  },
  {
   "cell_type": "code",
   "execution_count": 20,
   "metadata": {},
   "outputs": [
    {
     "name": "stdout",
     "output_type": "stream",
     "text": [
      "Reading cube file\n",
      "Formatting\n",
      "Done\n",
      "Reading cube file\n",
      "Formatting\n",
      "Done\n",
      "Reading cube file\n",
      "Formatting\n",
      "Done\n",
      "Reading cube file\n",
      "Formatting\n",
      "Done\n",
      "Number of points in regular cubes:  (61617, 3) (66654, 3)\n",
      "                                    (61617,) (66654,)\n",
      "Number of points in reduced cubes:  (2975, 3) (5220, 3)\n",
      "                                    (2975,) (5220,)\n",
      "Point ratio:  264.46566328600403\n"
     ]
    }
   ],
   "source": [
    "import Cube\n",
    "data_1 = Cube.CubeData(join('CV_data', 'transdens_1_low.cub'))\n",
    "data_2 = Cube.CubeData(join('CV_data', 'transdens_2_low.cub'))\n",
    "dV_12 = data_1.dV * data_2.dV\n",
    "data_1_L = Cube.CubeData(join('CV_data', 'transdens_1_extra_low.cub'))\n",
    "data_2_L = Cube.CubeData(join('CV_data', 'transdens_2_extra_low.cub'))\n",
    "dV_12_L = data_1_L.dV * data_2_L.dV\n",
    "\n",
    "print(\"Number of points in regular cubes: \", data_1.coords.shape, data_2.coords.shape)\n",
    "print(\"                                   \", data_1.cube_data.shape, data_2.cube_data.shape)\n",
    "\n",
    "print(\"Number of points in reduced cubes: \", data_1_L.coords.shape, data_2_L.coords.shape)\n",
    "print(\"                                   \", data_1_L.cube_data.shape, data_2_L.cube_data.shape)\n",
    "\n",
    "point_ratio = data_1.n_points * data_2.n_points/(data_1_L.n_points * data_2_L.n_points)\n",
    "print(\"Point ratio: \", point_ratio)\n",
    "\n",
    "#   will store all of our benchmarks\n",
    "global_timers = {}"
   ]
  },
  {
   "cell_type": "code",
   "execution_count": 21,
   "metadata": {},
   "outputs": [
    {
     "name": "stdout",
     "output_type": "stream",
     "text": [
      "    Coulomb Integral 0.0 %\n",
      "    Coulomb Integral 20.0 %\n",
      "    Coulomb Integral 40.0 %\n",
      "    Coulomb Integral 60.0 %\n",
      "    Coulomb Integral 80.0 %\n",
      "pure_python: 5362.92 s (0.23374090007118797 eV)\n"
     ]
    }
   ],
   "source": [
    "def calc_coulomb_pure_python(pts_1, rho_1, pts_2, rho_2, dV):\n",
    "    from math import sqrt   #   normally, this is imported beforehand, but we need to fix fomr Jupyter multiprocessing bugs (discussed later)\n",
    "    total = 0.0\n",
    "    count = 0\n",
    "    n_pts_1 = len(pts_1)\n",
    "    n_pts_2 = len(pts_2)\n",
    "    n_pts_12 = n_pts_1*n_pts_2\n",
    "    print_num = n_pts_12//5\n",
    "    for i in range(n_pts_1):\n",
    "        for j in range(n_pts_2):\n",
    "            if count % print_num == 0:\n",
    "                print(f\"    Coulomb Integral {(count / n_pts_12*100):.1f} %\")\n",
    "\n",
    "            x1, y1, z1 = pts_1[i]\n",
    "            x2, y2, z2 = pts_2[j]\n",
    "            dx = x1 - x2\n",
    "            dy = y1 - y2\n",
    "            dz = z1 - z2\n",
    "            r = sqrt(dx**2 + dy**2 + dz**2)\n",
    "            total += rho_1[i]*rho_2[j]/r\n",
    "            count += 1\n",
    "    return total*dV\n",
    "\n",
    "start = time.time()\n",
    "total = calc_coulomb_pure_python(data_1_L.coords, data_1_L.cube_data, data_2_L.coords, data_2_L.cube_data, dV_12_L)\n",
    "total_time = (time.time() - start)*point_ratio\n",
    "global_timers['pure_python'] = (total, total_time)\n",
    "print(f'pure_python: {total_time:.2f} s ({total*AU_2_EV} eV)')"
   ]
  },
  {
   "cell_type": "markdown",
   "metadata": {},
   "source": [
    "#### Numpy\n",
    "Numpy gives us a way to manipulate multiple data points, stored in arrays, at the same time.\n",
    "- Think of numpy arrays as mathematical vectors and matricies"
   ]
  },
  {
   "cell_type": "code",
   "execution_count": 37,
   "metadata": {},
   "outputs": [
    {
     "name": "stdout",
     "output_type": "stream",
     "text": [
      " a + 2 = array([3, 4, 5, 6, 7])\n",
      " np.sum(a) = 15\n",
      " a * b = array([ 2,  6, 12, 20, 30])\n",
      " c @ d = array([[ 2,  6],\n",
      "       [ 6, 12]])\n"
     ]
    }
   ],
   "source": [
    "import numpy as np\n",
    "\n",
    "a = np.array([1, 2, 3, 4, 5])\n",
    "b = np.array([2, 3, 4, 5, 6])\n",
    "c = np.array([[1, 2], [3, 4]])\n",
    "d = np.array([[2, 0], [0, 3]])\n",
    "\n",
    "print(f\"{ a + 2 = }\")\n",
    "print(f\"{ np.sum(a) = }\")\n",
    "print(f\"{ a * b = }\")\n",
    "print(f\"{ c @ d = }\")"
   ]
  },
  {
   "cell_type": "code",
   "execution_count": 4,
   "metadata": {},
   "outputs": [
    {
     "name": "stdout",
     "output_type": "stream",
     "text": [
      "    Coulomb Integral 0.0 %\n",
      "    Coulomb Integral 20.0 %\n",
      "    Coulomb Integral 40.0 %\n",
      "    Coulomb Integral 60.0 %\n",
      "    Coulomb Integral 80.0 %\n",
      "numpy_L: 78.55 s (0.2337409000711968 a.u.)\n"
     ]
    }
   ],
   "source": [
    "# def calc_coulomb_pure_python(xyz_1: np.ndarray, dens_1: np.ndarray, xyz_2: np.ndarray, dens_2: np.ndarray):\n",
    "def calc_coulomb_numpy(pts_1, rho_1, pts_2, rho_2, dV):\n",
    "    total = 0.0\n",
    "    count = 0\n",
    "    n_pts_1 = len(pts_1)\n",
    "    print_num = n_pts_1//5\n",
    "    for i in range(n_pts_1):\n",
    "        if count % print_num == 0:\n",
    "            print(f\"    Coulomb Integral {(count / n_pts_1*100):.1f} %\")\n",
    "\n",
    "        dr = pts_1[i] - pts_2\n",
    "        r = np.linalg.norm(dr, axis=1)\n",
    "        total += rho_1[i]*np.sum(rho_2/r)\n",
    "        count += 1\n",
    "\n",
    "    return total*dV\n",
    "\n",
    "start = time.time()\n",
    "total = calc_coulomb_numpy(data_1_L.coords, data_1_L.cube_data, data_2_L.coords, data_2_L.cube_data, dV_12_L)\n",
    "# total = calc_coulomb_numpy(data_1.coords, data_1.cube_data, data_2.coords, data_2.cube_data, dV_12)\n",
    "total_time = (time.time() - start)*point_ratio\n",
    "global_timers['numpy_L'] = (total, total_time)\n",
    "print(f'numpy_L: {total_time:.2f} s ({total*AU_2_EV} a.u.)')"
   ]
  },
  {
   "cell_type": "code",
   "execution_count": 7,
   "metadata": {},
   "outputs": [
    {
     "name": "stdout",
     "output_type": "stream",
     "text": [
      "numba: 14.96 s (0.2422872334903655 a.u.)\n"
     ]
    }
   ],
   "source": [
    "@numba.jit(nopython=True)\n",
    "def calc_coulomb_numba(pts_1, rho_1, pts_2, rho_2, dV):\n",
    "    total = 0.0\n",
    "    n_pts_1 = len(pts_1)\n",
    "    n_pts_2 = len(pts_2)\n",
    "    for i in numba.prange(n_pts_1):\n",
    "        for j in range(n_pts_2):\n",
    "\n",
    "            x1, y1, z1 = pts_1[i]\n",
    "            x2, y2, z2 = pts_2[j]\n",
    "            dx = x1 - x2\n",
    "            dy = y1 - y2\n",
    "            dz = z1 - z2\n",
    "            r = sqrt(dx**2 + dy**2 + dz**2)\n",
    "            total += rho_1[i]*rho_2[j]/r\n",
    "            \n",
    "    return total*dV\n",
    "\n",
    "start = time.time()\n",
    "total = calc_coulomb_numba(data_1.coords, data_1.cube_data, data_2.coords, data_2.cube_data, dV_12)\n",
    "total_time = (time.time() - start)\n",
    "global_timers['numba'] = (total, total_time)\n",
    "print(f'numba: {total_time:.2f} s ({total*AU_2_EV} a.u.)')"
   ]
  },
  {
   "cell_type": "code",
   "execution_count": 9,
   "metadata": {},
   "outputs": [
    {
     "name": "stdout",
     "output_type": "stream",
     "text": [
      "numba_parallel: 4.55 s (0.24228723350222542 a.u.)\n"
     ]
    }
   ],
   "source": [
    "@numba.jit(nopython=True, parallel=True)\n",
    "def calc_coulomb_numba_parallel(pts_1, rho_1, pts_2, rho_2, dV):\n",
    "    total = 0.0\n",
    "    n_pts_1 = len(pts_1)\n",
    "    n_pts_2 = len(pts_2)\n",
    "    for i in numba.prange(n_pts_1):\n",
    "        for j in range(n_pts_2):\n",
    "\n",
    "            x1, y1, z1 = pts_1[i]\n",
    "            x2, y2, z2 = pts_2[j]\n",
    "            dx = x1 - x2\n",
    "            dy = y1 - y2\n",
    "            dz = z1 - z2\n",
    "            r = sqrt(dx**2 + dy**2 + dz**2)\n",
    "            total += rho_1[i]*rho_2[j]/r\n",
    "            \n",
    "    return total*dV\n",
    "\n",
    "start = time.time()\n",
    "numba.set_num_threads(4)\n",
    "total = calc_coulomb_numba_parallel(data_1.coords, data_1.cube_data, data_2.coords, data_2.cube_data, dV_12)\n",
    "total_time = (time.time() - start)\n",
    "global_timers['numba_parallel'] = (total, total_time)\n",
    "print(f'numba_parallel: {total_time:.2f} s ({total*AU_2_EV} a.u.)')"
   ]
  },
  {
   "cell_type": "code",
   "execution_count": 12,
   "metadata": {},
   "outputs": [
    {
     "name": "stdout",
     "output_type": "stream",
     "text": [
      "numba_parallel_numpy: 10.03 s (0.2422872335002303 a.u.)\n"
     ]
    }
   ],
   "source": [
    "@numba.jit(parallel=True, nopython=True)\n",
    "def calc_coulomb_numba_parallel_numpy(pts_1, rho_1, pts_2, rho_2, dV):\n",
    "\n",
    "    n_pts_1 = len(pts_1)\n",
    "    total = 0.0\n",
    "    count = 0.0\n",
    "    n_threads = numba.get_num_threads()\n",
    "    for i in numba.prange(n_pts_1):\n",
    "\n",
    "        dr = pts_2 - pts_1[i]\n",
    "        dr2 = dr*dr\n",
    "        r = np.sqrt(dr2[:, 0] + dr2[:, 1] + dr2[:, 2])\n",
    "        total += rho_1[i]*np.sum(rho_2/r)\n",
    "        count += 1\n",
    "\n",
    "    return total*dV\n",
    "\n",
    "start = time.time()\n",
    "numba.set_num_threads(4)\n",
    "total = calc_coulomb_numba_parallel_numpy(data_1.coords, data_1.cube_data, data_2.coords, data_2.cube_data, dV_12)\n",
    "total_time = (time.time() - start)\n",
    "global_timers['numba_parallel_numpy'] = (total, total_time)\n",
    "print(f'numba_parallel_numpy: {total_time:.2f} s ({total*AU_2_EV} a.u.)')"
   ]
  },
  {
   "cell_type": "code",
   "execution_count": 11,
   "metadata": {},
   "outputs": [
    {
     "ename": "KeyboardInterrupt",
     "evalue": "",
     "output_type": "error",
     "traceback": [
      "\u001b[1;31m---------------------------------------------------------------------------\u001b[0m",
      "\u001b[1;31mKeyboardInterrupt\u001b[0m                         Traceback (most recent call last)",
      "\u001b[1;32m~\\AppData\\Local\\Temp\\ipykernel_9864\\2958932001.py\u001b[0m in \u001b[0;36m<module>\u001b[1;34m\u001b[0m\n\u001b[0;32m     13\u001b[0m \u001b[0mstart\u001b[0m \u001b[1;33m=\u001b[0m \u001b[0mtime\u001b[0m\u001b[1;33m.\u001b[0m\u001b[0mtime\u001b[0m\u001b[1;33m(\u001b[0m\u001b[1;33m)\u001b[0m\u001b[1;33m\u001b[0m\u001b[1;33m\u001b[0m\u001b[0m\n\u001b[0;32m     14\u001b[0m \u001b[0mnumba\u001b[0m\u001b[1;33m.\u001b[0m\u001b[0mset_num_threads\u001b[0m\u001b[1;33m(\u001b[0m\u001b[1;36m8\u001b[0m\u001b[1;33m)\u001b[0m\u001b[1;33m\u001b[0m\u001b[1;33m\u001b[0m\u001b[0m\n\u001b[1;32m---> 15\u001b[1;33m \u001b[0mtotal\u001b[0m \u001b[1;33m=\u001b[0m \u001b[0mcalc_coulomb_numba_numpy\u001b[0m\u001b[1;33m(\u001b[0m\u001b[0mdata_1\u001b[0m\u001b[1;33m.\u001b[0m\u001b[0mcoords\u001b[0m\u001b[1;33m,\u001b[0m \u001b[0mdata_1\u001b[0m\u001b[1;33m.\u001b[0m\u001b[0mcube_data\u001b[0m\u001b[1;33m,\u001b[0m \u001b[0mdata_2\u001b[0m\u001b[1;33m.\u001b[0m\u001b[0mcoords\u001b[0m\u001b[1;33m,\u001b[0m \u001b[0mdata_2\u001b[0m\u001b[1;33m.\u001b[0m\u001b[0mcube_data\u001b[0m\u001b[1;33m,\u001b[0m \u001b[0mdV_12\u001b[0m\u001b[1;33m)\u001b[0m\u001b[1;33m\u001b[0m\u001b[1;33m\u001b[0m\u001b[0m\n\u001b[0m\u001b[0;32m     16\u001b[0m \u001b[0mtotal_time\u001b[0m \u001b[1;33m=\u001b[0m \u001b[1;33m(\u001b[0m\u001b[0mtime\u001b[0m\u001b[1;33m.\u001b[0m\u001b[0mtime\u001b[0m\u001b[1;33m(\u001b[0m\u001b[1;33m)\u001b[0m \u001b[1;33m-\u001b[0m \u001b[0mstart\u001b[0m\u001b[1;33m)\u001b[0m\u001b[1;33m\u001b[0m\u001b[1;33m\u001b[0m\u001b[0m\n\u001b[0;32m     17\u001b[0m \u001b[0mglobal_timers\u001b[0m\u001b[1;33m[\u001b[0m\u001b[1;34m'numba_numpy'\u001b[0m\u001b[1;33m]\u001b[0m \u001b[1;33m=\u001b[0m \u001b[1;33m(\u001b[0m\u001b[0mtotal\u001b[0m\u001b[1;33m,\u001b[0m \u001b[0mtotal_time\u001b[0m\u001b[1;33m)\u001b[0m\u001b[1;33m\u001b[0m\u001b[1;33m\u001b[0m\u001b[0m\n",
      "\u001b[1;31mKeyboardInterrupt\u001b[0m: "
     ]
    }
   ],
   "source": [
    "@numba.jit(nopython=True)\n",
    "def calc_coulomb_numba_numpy(pts_1, rho_1, pts_2, rho_2, dV):\n",
    "    n_pts_1 = len(pts_1)\n",
    "    total = 0.0\n",
    "    for i in numba.prange(n_pts_1):\n",
    "        dr = pts_2 - pts_1[i]\n",
    "        dr2 = dr*dr\n",
    "        r = np.sqrt(dr2[:, 0] + dr2[:, 1] + dr2[:, 2])\n",
    "        total += rho_1[i]*np.sum(rho_2/r)\n",
    "\n",
    "    return total*dV\n",
    "\n",
    "start = time.time()\n",
    "total = calc_coulomb_numba_numpy(data_1.coords, data_1.cube_data, data_2.coords, data_2.cube_data, dV_12)\n",
    "total_time = (time.time() - start)\n",
    "global_timers['numba_numpy'] = (total, total_time)\n",
    "print(f'numba_numpy: {total_time:.2f} s ({total*AU_2_EV} a.u.)')"
   ]
  },
  {
   "cell_type": "code",
   "execution_count": 13,
   "metadata": {},
   "outputs": [
    {
     "name": "stdout",
     "output_type": "stream",
     "text": [
      "Thread 0 using indicies  0 4 8 12 ...\n",
      "    Coulomb Integral 0 0.0 %\n",
      "Thread 1 using indicies  1 5 9 13 ...\n",
      "    Coulomb Integral 1 0.0 %\n",
      "Thread 2 using indicies  2 6 10 14 ...\n",
      "    Coulomb Integral 2 0.0 %\n",
      "Thread 3 using indicies  3 7 11 15 ...\n",
      "    Coulomb Integral 3 0.0 %\n",
      "    Coulomb Integral 1 20.0 %\n",
      "    Coulomb Integral 0 20.0 %\n",
      "    Coulomb Integral 3 20.0 %\n",
      "    Coulomb Integral 2 20.0 %\n",
      "    Coulomb Integral 1 40.0 %\n",
      "    Coulomb Integral 3 40.0 %\n",
      "    Coulomb Integral 0 40.0 %\n",
      "    Coulomb Integral 2 40.0 %\n",
      "    Coulomb Integral 1 60.0 %\n",
      "    Coulomb Integral 3 60.0 %\n",
      "    Coulomb Integral 0 60.0 %\n",
      "    Coulomb Integral 2 60.0 %\n",
      "    Coulomb Integral 1 80.0 %\n",
      "    Coulomb Integral 3 80.0 %\n",
      "    Coulomb Integral 0 80.0 %\n",
      "    Coulomb Integral 2 80.0 %\n",
      "threaded: 15281.22 s (0.0 a.u.)\n"
     ]
    }
   ],
   "source": [
    "import threading\n",
    "\n",
    "thread_totals = np.array([])\n",
    "# @numba.jit(nopython=True)\n",
    "def _coulomb_by_indix(indicies, pts_1, rho_1, pts_2, rho_2, dV, thread_ID):\n",
    "\n",
    "    total = 0.0\n",
    "    count = 0\n",
    "    n_pts_1 = len(indicies)\n",
    "    n_pts_2 = len(pts_2)\n",
    "    n_pts_12 = n_pts_1*n_pts_2\n",
    "    print_num = n_pts_12//5\n",
    "    for i in indicies: # EDIT: loop over specified indicies only\n",
    "        for j in range(n_pts_2):\n",
    "            if count % print_num == 0:\n",
    "                #   Also print thread ID\n",
    "                print(f\"    Coulomb Integral {thread_ID} {(count / n_pts_12*100):.1f} %\")\n",
    "\n",
    "            x1, y1, z1 = pts_1[i]\n",
    "            x2, y2, z2 = pts_2[j]\n",
    "            dx = x1 - x2\n",
    "            dy = y1 - y2\n",
    "            dz = z1 - z2\n",
    "            r = sqrt(dx**2 + dy**2 + dz**2)\n",
    "            total += rho_1[i]*rho_2[j]/r\n",
    "            count += 1\n",
    "\n",
    "    # thread_totals[thread_ID] = total*dV\n",
    "\n",
    "def calc_coulomb_thread(n_threads, pts_1, rho_1, pts_2, rho_2, dV):\n",
    "    global thread_totals\n",
    "    all_threads = []\n",
    "    thread_totals = np.zeros(n_threads)\n",
    "    for n in range(n_threads):\n",
    "        #   these will be the indicies used by the inner Coulomb loop\n",
    "        indicies = np.arange(n, len(pts_1), n_threads)\n",
    "        print(f\"Thread {n} using indicies \", *indicies[0:4], \"...\")\n",
    "        \n",
    "        thread = threading.Thread(target=_coulomb_by_indix, args=(indicies, pts_1, rho_1, pts_2, rho_2, dV, n))\n",
    "        all_threads.append(thread)\n",
    "        thread.start()\n",
    "\n",
    "    for thread in all_threads:\n",
    "        thread.join()\n",
    "\n",
    "    return np.sum(thread_totals)\n",
    "\n",
    "start = time.time()\n",
    "total = calc_coulomb_thread(4, data_1_L.coords, data_1_L.cube_data, data_2_L.coords, data_2_L.cube_data, dV_12_L)\n",
    "# total = calc_coulomb_thread(4, data_1.coords, data_1.cube_data, data_2.coords, data_2.cube_data, dV_12)\n",
    "total_time = (time.time() - start)*point_ratio\n",
    "global_timers['threaded'] = (total, total_time)\n",
    "print(f'threaded: {total_time:.2f} s ({total*AU_2_EV} a.u.)')"
   ]
  },
  {
   "cell_type": "code",
   "execution_count": 9,
   "metadata": {},
   "outputs": [
    {
     "name": "stdout",
     "output_type": "stream",
     "text": [
      "multiprocessing: 4139.28 s (0.23374090007120177 a.u.)\n"
     ]
    }
   ],
   "source": [
    "import multiprocess as mp # use with Jupyter Notebooks\n",
    "#import multiprocess as mp # use with traditional python files\n",
    "\n",
    "def calc_coulomb_MP(n_proc, pts_1, rho_1, pts_2, rho_2, dV):\n",
    "    #   outer loop will be split by each process\n",
    "    pts_1_split = np.array_split(pts_1, n_proc)\n",
    "    rho_1_split = np.array_split(rho_1, n_proc)\n",
    "\n",
    "    #   inner loop will remain the same, so we simply copy the data\n",
    "    pts_2_copies = [pts_2]*n_proc\n",
    "    rho_2_copies = [rho_2]*n_proc\n",
    "\n",
    "    #   a copy also needs to be supplied to each process\n",
    "    dV_list = [dV]*n_proc\n",
    "\n",
    "    with mp.Pool(n_proc) as pool:\n",
    "        func_params = zip(pts_1_split, rho_1_split, pts_2_copies, rho_2_copies, dV_list)\n",
    "        results = pool.starmap(calc_coulomb_pure_python, func_params)\n",
    "\n",
    "    return np.sum(results)\n",
    "\n",
    "# calc_coulomb_pure_python(data_1_L.coords, data_1_L.cube_data, data_2_L.coords, data_2_L.cube_data, dV_12_L)\n",
    "\n",
    "start = time.time()\n",
    "total = calc_coulomb_MP(4, data_1_L.coords, data_1_L.cube_data, data_2_L.coords, data_2_L.cube_data, dV_12_L)\n",
    "total_time = (time.time() - start)*point_ratio\n",
    "global_timers['multiprocessing'] = (total, total_time)\n",
    "print(f'multiprocessing: {total_time:.2f} s ({total*AU_2_EV} a.u.)')"
   ]
  },
  {
   "cell_type": "code",
   "execution_count": 85,
   "metadata": {},
   "outputs": [
    {
     "data": {
      "text/plain": [
       "[array([0, 1, 2, 3]), array([4, 5, 6]), array([7, 8, 9])]"
      ]
     },
     "execution_count": 85,
     "metadata": {},
     "output_type": "execute_result"
    }
   ],
   "source": [
    "a = np.arange(10)\n",
    "np.array_split(a, 3)"
   ]
  },
  {
   "cell_type": "code",
   "execution_count": 93,
   "metadata": {},
   "outputs": [
    {
     "name": "stdout",
     "output_type": "stream",
     "text": [
      "multiprocessing_numba: 68.91 s (0.008589816563295825 a.u.)\n"
     ]
    }
   ],
   "source": [
    "def calc_coulomb_MP_numba(n_proc, pts_1, rho_1, pts_2, rho_2, dV):\n",
    "    #   outer loop will be split by each process\n",
    "    pts_1_split = np.array_split(pts_1, n_proc)\n",
    "    rho_1_split = np.array_split(rho_1, n_proc)\n",
    "\n",
    "    #   inner loop will remain the same, so we simply copy the data\n",
    "    pts_2_copies = [pts_2]*n_proc\n",
    "    rho_2_copies = [rho_2]*n_proc\n",
    "\n",
    "    #   a copy also needs to be supplied to each process\n",
    "    dV_list = [dV]*n_proc\n",
    "\n",
    "    with mp.Pool(n_proc) as pool:\n",
    "        func_params = zip(pts_1_split, rho_1_split, pts_2_copies, rho_2_copies, dV_list)\n",
    "        results = pool.starmap(calc_coulomb_numba, func_params)\n",
    "\n",
    "    return np.sum(results)\n",
    "\n",
    "n_keep = 1\n",
    "start = time.time()\n",
    "total = calc_coulomb_MP_numba(4, data_1_L.coords, data_1_L.cube_data, data_2_L.coords, data_2_L.cube_data, dV_12_L)\n",
    "total_time = (time.time() - start)*point_ratio\n",
    "global_timers['multiprocessing_numba'] = (total, total_time)\n",
    "print(f'multiprocessing_numba: {total_time:.2f} s ({total} a.u.)')"
   ]
  },
  {
   "cell_type": "code",
   "execution_count": 15,
   "metadata": {},
   "outputs": [
    {
     "name": "stdout",
     "output_type": "stream",
     "text": [
      "pure_python                  14535.4\n",
      "numpy_L                         78.5\n",
      "numba                           15.0\n",
      "numba_parallel                   4.5\n",
      "numba_parallel_numpy            10.0\n",
      "threaded                        46.5\n"
     ]
    }
   ],
   "source": [
    "for name, val in global_timers.items():\n",
    "    print(f'{name:25s} {val[1]:10.1f}')"
   ]
  },
  {
   "attachments": {
    "image.png": {
     "image/png": "[encoded data removed]"
    }
   },
   "cell_type": "markdown",
   "metadata": {},
   "source": [
    "![image.png](attachment:image.png)"
   ]
  },
  {
   "cell_type": "code",
   "execution_count": 14,
   "metadata": {},
   "outputs": [
    {
     "name": "stdout",
     "output_type": "stream",
     "text": [
      "Thread 0 using indicies  0 4 8 12 ...\n",
      "    Coulomb Integral      0 0.0 %\n",
      "Thread 1 using indicies  1 5 9 13 ...\n",
      "    Coulomb Integral      1 0.0 %\n",
      "Thread 2 using indicies  2 6 10 14 ...\n",
      "    Coulomb Integral      2 0.0 %\n",
      "Thread 3 using indicies  3 7 11 15 ...\n",
      "    Coulomb Integral      3 0.0 %\n",
      "    Coulomb Integral      0 20.0 %\n",
      "    Coulomb Integral      1 20.0 %\n",
      "    Coulomb Integral      2 20.0 %\n",
      "    Coulomb Integral      3 20.0 %\n",
      "    Coulomb Integral      1 40.0 %\n",
      "    Coulomb Integral      0 40.0 %\n",
      "    Coulomb Integral      2 40.0 %\n",
      "    Coulomb Integral      3 40.0 %\n",
      "    Coulomb Integral      1 60.0 %\n",
      "    Coulomb Integral      0 60.0 %\n",
      "    Coulomb Integral      2 60.0 %\n",
      "    Coulomb Integral      3 60.0 %\n",
      "    Coulomb Integral      1 80.0 %\n",
      "    Coulomb Integral      3 80.0 %\n",
      "    Coulomb Integral      0 80.0 %\n",
      "    Coulomb Integral      2 80.0 %\n",
      "    Coulomb Integral      1 100.0 %\n",
      "    Coulomb Integral      3 100.0 %\n",
      "    Coulomb Integral      2 100.0 %\n",
      "threaded: 46.47 s (0.2422872335002314 a.u.)\n"
     ]
    }
   ],
   "source": [
    "import threading\n",
    "\n",
    "thread_totals = np.array([])\n",
    "# @numba.jit(nopython=True)\n",
    "def _coulomb_by_indix_2(indicies, pts_1, rho_1, pts_2, rho_2, dV, thread_ID):\n",
    "\n",
    "    total = 0.0\n",
    "    count = 0\n",
    "    n_pts_1 = len(indicies)\n",
    "    print_num = n_pts_1//5\n",
    "    for i in indicies: # EDIT: loop over specified indicies only\n",
    "        if count % print_num == 0:\n",
    "            #   Also print thread ID\n",
    "            print(f\"    Coulomb Integral      {thread_ID} {(count / n_pts_1*100):.1f} %\")\n",
    "\n",
    "            \n",
    "        dr = pts_2 - pts_1[i]\n",
    "        dr2 = dr*dr\n",
    "        r = np.sqrt(dr2[:, 0] + dr2[:, 1] + dr2[:, 2])\n",
    "        total += rho_1[i]*np.sum(rho_2/r)\n",
    "        count += 1\n",
    "\n",
    "\n",
    "    thread_totals[thread_ID] = total*dV\n",
    "\n",
    "def calc_coulomb_thread_2(n_threads, pts_1, rho_1, pts_2, rho_2, dV):\n",
    "    global thread_totals\n",
    "    all_threads = []\n",
    "    thread_totals = np.zeros(n_threads)\n",
    "    for n in range(n_threads):\n",
    "        #   these will be the indicies used by the inner Coulomb loop\n",
    "        indicies = np.arange(n, len(pts_1), n_threads)\n",
    "        print(f\"Thread {n} using indicies \", *indicies[0:4], \"...\")\n",
    "        \n",
    "        thread = threading.Thread(target=_coulomb_by_indix_2, args=(indicies, pts_1, rho_1, pts_2, rho_2, dV, n))\n",
    "        all_threads.append(thread)\n",
    "        thread.start()\n",
    "\n",
    "    for thread in all_threads:\n",
    "        thread.join()\n",
    "\n",
    "    return np.sum(thread_totals)\n",
    "\n",
    "start = time.time()\n",
    "# total = calc_coulomb_thread_2(4, data_1_L.coords, data_1_L.cube_data, data_2_L.coords, data_2_L.cube_data, dV_12_L)\n",
    "total = calc_coulomb_thread_2(4, data_1.coords, data_1.cube_data, data_2.coords, data_2.cube_data, dV_12)\n",
    "total_time = (time.time() - start)\n",
    "global_timers['numpy_threaded'] = (total, total_time)\n",
    "print(f'numpy_threaded: {total_time:.2f} s ({total*AU_2_EV} a.u.)')"
   ]
  },
  {
   "cell_type": "code",
   "execution_count": null,
   "metadata": {},
   "outputs": [],
   "source": []
  },
  {
   "cell_type": "code",
   "execution_count": null,
   "metadata": {},
   "outputs": [
    {
     "name": "stdout",
     "output_type": "stream",
     "text": [
      "Pure Python Coulomb Integral\n",
      "    Coulomb Integral 0.0 %\n"
     ]
    },
    {
     "ename": "KeyboardInterrupt",
     "evalue": "",
     "output_type": "error",
     "traceback": [
      "\u001b[1;31m---------------------------------------------------------------------------\u001b[0m\n",
      "\u001b[1;31mKeyboardInterrupt\u001b[0m                         Traceback (most recent call last)\n",
      "\u001b[1;32m~\\AppData\\Local\\Temp\\ipykernel_9864\\3165465660.py\u001b[0m in \u001b[0;36m<module>\u001b[1;34m\u001b[0m\n",
      "\u001b[0;32m     22\u001b[0m \u001b[1;33m\u001b[0m\u001b[0m\n",
      "\u001b[0;32m     23\u001b[0m \u001b[0mstart\u001b[0m \u001b[1;33m=\u001b[0m \u001b[0mtime\u001b[0m\u001b[1;33m.\u001b[0m\u001b[0mtime\u001b[0m\u001b[1;33m(\u001b[0m\u001b[1;33m)\u001b[0m\u001b[1;33m\u001b[0m\u001b[1;33m\u001b[0m\u001b[0m\n",
      "\u001b[1;32m---> 24\u001b[1;33m \u001b[0mtotal\u001b[0m \u001b[1;33m=\u001b[0m \u001b[0mcalc_coulomb_pure_numpy_mix\u001b[0m\u001b[1;33m(\u001b[0m\u001b[0mdata_1_L\u001b[0m\u001b[1;33m.\u001b[0m\u001b[0mcoords\u001b[0m\u001b[1;33m,\u001b[0m \u001b[0mdata_1_L\u001b[0m\u001b[1;33m.\u001b[0m\u001b[0mcube_data\u001b[0m\u001b[1;33m,\u001b[0m \u001b[0mdata_2_L\u001b[0m\u001b[1;33m.\u001b[0m\u001b[0mcoords\u001b[0m\u001b[1;33m,\u001b[0m \u001b[0mdata_2_L\u001b[0m\u001b[1;33m.\u001b[0m\u001b[0mcube_data\u001b[0m\u001b[1;33m,\u001b[0m \u001b[0mdV_12_L\u001b[0m\u001b[1;33m)\u001b[0m\u001b[1;33m\u001b[0m\u001b[1;33m\u001b[0m\u001b[0m\n",
      "\u001b[0m\u001b[0;32m     25\u001b[0m \u001b[0mtotal_time\u001b[0m \u001b[1;33m=\u001b[0m \u001b[1;33m(\u001b[0m\u001b[0mtime\u001b[0m\u001b[1;33m.\u001b[0m\u001b[0mtime\u001b[0m\u001b[1;33m(\u001b[0m\u001b[1;33m)\u001b[0m \u001b[1;33m-\u001b[0m \u001b[0mstart\u001b[0m\u001b[1;33m)\u001b[0m\u001b[1;33m*\u001b[0m\u001b[0mpoint_ratio\u001b[0m\u001b[1;33m\u001b[0m\u001b[1;33m\u001b[0m\u001b[0m\n",
      "\u001b[0;32m     26\u001b[0m \u001b[0mglobal_timers\u001b[0m\u001b[1;33m[\u001b[0m\u001b[1;34m'pure_numpy_mix'\u001b[0m\u001b[1;33m]\u001b[0m \u001b[1;33m=\u001b[0m \u001b[1;33m(\u001b[0m\u001b[0mtotal\u001b[0m\u001b[1;33m,\u001b[0m \u001b[0mtotal_time\u001b[0m\u001b[1;33m)\u001b[0m\u001b[1;33m\u001b[0m\u001b[1;33m\u001b[0m\u001b[0m\n",
      "\n",
      "\u001b[1;32m~\\AppData\\Local\\Temp\\ipykernel_9864\\3165465660.py\u001b[0m in \u001b[0;36mcalc_coulomb_pure_numpy_mix\u001b[1;34m(pts_1, rho_1, pts_2, rho_2, dV)\u001b[0m\n",
      "\u001b[0;32m     15\u001b[0m \u001b[1;33m\u001b[0m\u001b[0m\n",
      "\u001b[0;32m     16\u001b[0m             \u001b[0mdr\u001b[0m \u001b[1;33m=\u001b[0m \u001b[0mpts_1\u001b[0m\u001b[1;33m[\u001b[0m\u001b[0mi\u001b[0m\u001b[1;33m]\u001b[0m \u001b[1;33m-\u001b[0m \u001b[0mpts_2\u001b[0m\u001b[1;33m[\u001b[0m\u001b[0mj\u001b[0m\u001b[1;33m]\u001b[0m\u001b[1;33m\u001b[0m\u001b[1;33m\u001b[0m\u001b[0m\n",
      "\u001b[1;32m---> 17\u001b[1;33m             \u001b[0mr\u001b[0m \u001b[1;33m=\u001b[0m \u001b[0mnp\u001b[0m\u001b[1;33m.\u001b[0m\u001b[0mlinalg\u001b[0m\u001b[1;33m.\u001b[0m\u001b[0mnorm\u001b[0m\u001b[1;33m(\u001b[0m\u001b[0mdr\u001b[0m\u001b[1;33m)\u001b[0m\u001b[1;33m\u001b[0m\u001b[1;33m\u001b[0m\u001b[0m\n",
      "\u001b[0m\u001b[0;32m     18\u001b[0m             \u001b[0mtotal\u001b[0m \u001b[1;33m+=\u001b[0m \u001b[0mrho_1\u001b[0m\u001b[1;33m[\u001b[0m\u001b[0mi\u001b[0m\u001b[1;33m]\u001b[0m\u001b[1;33m*\u001b[0m\u001b[0mrho_2\u001b[0m\u001b[1;33m[\u001b[0m\u001b[0mj\u001b[0m\u001b[1;33m]\u001b[0m\u001b[1;33m/\u001b[0m\u001b[0mr\u001b[0m\u001b[1;33m\u001b[0m\u001b[1;33m\u001b[0m\u001b[0m\n",
      "\u001b[0;32m     19\u001b[0m             \u001b[0mcount\u001b[0m \u001b[1;33m+=\u001b[0m \u001b[1;36m1\u001b[0m\u001b[1;33m\u001b[0m\u001b[1;33m\u001b[0m\u001b[0m\n",
      "\n",
      "\u001b[1;32m<__array_function__ internals>\u001b[0m in \u001b[0;36mnorm\u001b[1;34m(*args, **kwargs)\u001b[0m\n",
      "\n",
      "\u001b[1;32mc:\\ProgramData\\Anaconda3\\lib\\site-packages\\numpy\\linalg\\linalg.py\u001b[0m in \u001b[0;36mnorm\u001b[1;34m(x, ord, axis, keepdims)\u001b[0m\n",
      "\u001b[0;32m   2528\u001b[0m                 \u001b[0msqnorm\u001b[0m \u001b[1;33m=\u001b[0m \u001b[0mdot\u001b[0m\u001b[1;33m(\u001b[0m\u001b[0mx\u001b[0m\u001b[1;33m.\u001b[0m\u001b[0mreal\u001b[0m\u001b[1;33m,\u001b[0m \u001b[0mx\u001b[0m\u001b[1;33m.\u001b[0m\u001b[0mreal\u001b[0m\u001b[1;33m)\u001b[0m \u001b[1;33m+\u001b[0m \u001b[0mdot\u001b[0m\u001b[1;33m(\u001b[0m\u001b[0mx\u001b[0m\u001b[1;33m.\u001b[0m\u001b[0mimag\u001b[0m\u001b[1;33m,\u001b[0m \u001b[0mx\u001b[0m\u001b[1;33m.\u001b[0m\u001b[0mimag\u001b[0m\u001b[1;33m)\u001b[0m\u001b[1;33m\u001b[0m\u001b[1;33m\u001b[0m\u001b[0m\n",
      "\u001b[0;32m   2529\u001b[0m             \u001b[1;32melse\u001b[0m\u001b[1;33m:\u001b[0m\u001b[1;33m\u001b[0m\u001b[1;33m\u001b[0m\u001b[0m\n",
      "\u001b[1;32m-> 2530\u001b[1;33m                 \u001b[0msqnorm\u001b[0m \u001b[1;33m=\u001b[0m \u001b[0mdot\u001b[0m\u001b[1;33m(\u001b[0m\u001b[0mx\u001b[0m\u001b[1;33m,\u001b[0m \u001b[0mx\u001b[0m\u001b[1;33m)\u001b[0m\u001b[1;33m\u001b[0m\u001b[1;33m\u001b[0m\u001b[0m\n",
      "\u001b[0m\u001b[0;32m   2531\u001b[0m             \u001b[0mret\u001b[0m \u001b[1;33m=\u001b[0m \u001b[0msqrt\u001b[0m\u001b[1;33m(\u001b[0m\u001b[0msqnorm\u001b[0m\u001b[1;33m)\u001b[0m\u001b[1;33m\u001b[0m\u001b[1;33m\u001b[0m\u001b[0m\n",
      "\u001b[0;32m   2532\u001b[0m             \u001b[1;32mif\u001b[0m \u001b[0mkeepdims\u001b[0m\u001b[1;33m:\u001b[0m\u001b[1;33m\u001b[0m\u001b[1;33m\u001b[0m\u001b[0m\n",
      "\n",
      "\u001b[1;32m<__array_function__ internals>\u001b[0m in \u001b[0;36mdot\u001b[1;34m(*args, **kwargs)\u001b[0m\n",
      "\n",
      "\u001b[1;31mKeyboardInterrupt\u001b[0m: "
     ]
    }
   ],
   "source": [
    "# def calc_coulomb_pure_python(xyz_1: np.ndarray, dens_1: np.ndarray, xyz_2: np.ndarray, dens_2: np.ndarray):\n",
    "def calc_coulomb_pure_numpy_mix(pts_1, rho_1, pts_2, rho_2, dV):\n",
    "    print(\"Pure Python Coulomb Integral\")\n",
    "\n",
    "    total = 0.0\n",
    "    count = 0\n",
    "    n_pts_1 = len(pts_1)\n",
    "    n_pts_2 = len(pts_2)\n",
    "    n_pts_12 = n_pts_1*n_pts_2\n",
    "    print_num = n_pts_12//5\n",
    "    for i in range(n_pts_1):\n",
    "        for j in range(n_pts_2):\n",
    "            if count % print_num == 0:\n",
    "                print(f\"    Coulomb Integral {(count / n_pts_12*100):.1f} %\")\n",
    "\n",
    "            dr = pts_1[i] - pts_2[j]\n",
    "            r = np.linalg.norm(dr)\n",
    "            total += rho_1[i]*rho_2[j]/r\n",
    "            count += 1\n",
    "\n",
    "    return total*dV\n",
    "\n",
    "start = time.time()\n",
    "total = calc_coulomb_pure_numpy_mix(data_1_L.coords, data_1_L.cube_data, data_2_L.coords, data_2_L.cube_data, dV_12_L)\n",
    "total_time = (time.time() - start)*point_ratio\n",
    "global_timers['pure_numpy_mix'] = (total, total_time)\n",
    "print(f'pure_numpy_mix: {total_time:.2f} s ({total*AU_2_EV} a.u.)')"
   ]
  }
 ],
 "metadata": {
  "kernelspec": {
   "display_name": "base",
   "language": "python",
   "name": "python3"
  },
  "language_info": {
   "codemirror_mode": {
    "name": "ipython",
    "version": 3
   },
   "file_extension": ".py",
   "mimetype": "text/x-python",
   "name": "python",
   "nbconvert_exporter": "python",
   "pygments_lexer": "ipython3",
   "version": "3.9.13"
  },
  "orig_nbformat": 4
 },
 "nbformat": 4,
 "nbformat_minor": 2
}
