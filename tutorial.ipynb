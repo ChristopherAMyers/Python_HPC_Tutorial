{
 "cells": [
  {
   "cell_type": "code",
   "execution_count": 1,
   "metadata": {},
   "outputs": [],
   "source": [
    "import numpy as np\n",
    "from math import sqrt\n",
    "from os.path import *\n",
    "import time\n",
    "import numba"
   ]
  },
  {
   "cell_type": "code",
   "execution_count": 2,
   "metadata": {},
   "outputs": [
    {
     "name": "stdout",
     "output_type": "stream",
     "text": [
      "Reading cube file\n",
      "Formatting\n",
      "Done\n",
      "Reading cube file\n",
      "Formatting\n",
      "Done\n"
     ]
    }
   ],
   "source": [
    "import Cube\n",
    "data_1 = Cube.CubeData(join('yld_data', 'monomer_99_wCh_trans1.cub'))\n",
    "data_2 = Cube.CubeData(join('yld_data', 'monomer_100_wCh_trans1.cub'))\n",
    "xyz_1 = data_1.coords\n",
    "xyz_2 = data_2.coords\n",
    "dens_1 = data_1.cube_data\n",
    "dens_2 = data_2.cube_data\n",
    "dV_12 = data_1.dV * data_2.dV\n",
    "\n",
    "n_pts_12 = xyz_1.shape[0] * xyz_2.shape[0]\n",
    "global_timers = {}"
   ]
  },
  {
   "cell_type": "code",
   "execution_count": 3,
   "metadata": {},
   "outputs": [],
   "source": [
    "\n",
    "# data_1 = np.loadtxt(join('yld_data', 'monomer_99_wCh_trans1.fcub'))\n",
    "# data_2 = np.loadtxt(join('yld_data', 'monomer_100_wCh_trans1.fcub'))\n",
    "# xyz_1 = data_1[:, 0:3]\n",
    "# xyz_2 = data_2[:, 0:3]\n",
    "# dens_1 = data_1[:, 3]\n",
    "# dens_2 = data_2[:, 3]\n",
    "# dV_1 = np.prod(np.abs(xyz_1[0] - xyz_1[1]))\n",
    "# dV_2 = np.prod(np.abs(xyz_2[0] - xyz_2[1]))\n",
    "# dV_12 = dV_1*dV_2\n",
    "\n",
    "# n_pts_12 = xyz_1.shape[0] * xyz_2.shape[0]\n",
    "# global_timers = {}\n",
    "\n",
    "# print(len(xyz_1))"
   ]
  },
  {
   "cell_type": "code",
   "execution_count": 4,
   "metadata": {},
   "outputs": [
    {
     "name": "stdout",
     "output_type": "stream",
     "text": [
      "Pure Python Coulomb Integral\n",
      "    Coulomb Integral 0.0 %\n",
      "    Coulomb Integral 20.0 %\n",
      "    Coulomb Integral 40.0 %\n",
      "    Coulomb Integral 60.0 %\n",
      "    Coulomb Integral 80.0 %\n",
      "    Coulomb Integral 100.0 %\n",
      "pure_python: 22877.49 s (4.8197766672082645e-09 a.u.)\n"
     ]
    }
   ],
   "source": [
    "# def calc_coulomb_pure_python(xyz_1: np.ndarray, dens_1: np.ndarray, xyz_2: np.ndarray, dens_2: np.ndarray):\n",
    "def calc_coulomb_pure_python(pts_1, rho_1, pts_2, rho_2):\n",
    "    print(\"Pure Python Coulomb Integral\")\n",
    "\n",
    "    total = 0.0\n",
    "    count = 0\n",
    "    n_pts_1 = len(pts_1)\n",
    "    n_pts_2 = len(pts_2)\n",
    "    n_pts_12 = n_pts_1*n_pts_2\n",
    "    print_num = n_pts_12//5\n",
    "    for i in range(n_pts_1):\n",
    "        for j in range(n_pts_2):\n",
    "            if count % print_num == 0:\n",
    "                print(f\"    Coulomb Integral {(count / n_pts_12*100):.1f} %\")\n",
    "\n",
    "            x1, y1, z1 = pts_1[i]\n",
    "            x2, y2, z2 = pts_2[j]\n",
    "            dx = x1 - x2\n",
    "            dy = y1 - y2\n",
    "            dz = z1 - z2\n",
    "            r = sqrt(dx**2 + dy**2 + dz**2)\n",
    "            total += rho_1[i]*rho_2[j]/r\n",
    "            count += 1\n",
    "    return total*dV_12\n",
    "\n",
    "n_keep = 100\n",
    "start = time.time()\n",
    "total = calc_coulomb_pure_python(xyz_1[::n_keep], dens_1[::n_keep], xyz_2[::n_keep], dens_2[::n_keep])\n",
    "total_time = (time.time() - start)*n_keep**2\n",
    "global_timers['pure_python'] = (total, total_time)\n",
    "print(f'pure_python: {total_time:.2f} s ({total} a.u.)')"
   ]
  },
  {
   "cell_type": "code",
   "execution_count": 5,
   "metadata": {},
   "outputs": [
    {
     "name": "stdout",
     "output_type": "stream",
     "text": [
      "Pure Python Coulomb Integral\n",
      "    Coulomb Integral 0.0 %\n",
      "    Coulomb Integral 20.0 %\n",
      "    Coulomb Integral 40.0 %\n",
      "    Coulomb Integral 60.0 %\n",
      "    Coulomb Integral 80.0 %\n",
      "    Coulomb Integral 100.0 %\n",
      "pure_numpy_mix: 34023.75 s (4.819776667208263e-09 a.u.)\n"
     ]
    }
   ],
   "source": [
    "# def calc_coulomb_pure_python(xyz_1: np.ndarray, dens_1: np.ndarray, xyz_2: np.ndarray, dens_2: np.ndarray):\n",
    "def calc_coulomb_pure_numpy_mix(pts_1, rho_1, pts_2, rho_2):\n",
    "    print(\"Pure Python Coulomb Integral\")\n",
    "\n",
    "    total = 0.0\n",
    "    count = 0\n",
    "    n_pts_1 = len(pts_1)\n",
    "    n_pts_2 = len(pts_2)\n",
    "    n_pts_12 = n_pts_1*n_pts_2\n",
    "    print_num = n_pts_12//5\n",
    "    for i in range(n_pts_1):\n",
    "        for j in range(n_pts_2):\n",
    "            if count % print_num == 0:\n",
    "                print(f\"    Coulomb Integral {(count / n_pts_12*100):.1f} %\")\n",
    "\n",
    "            dr = pts_1[i] - pts_2[j]\n",
    "            r = np.linalg.norm(dr)\n",
    "            total += rho_1[i]*rho_2[j]/r\n",
    "            count += 1\n",
    "    return total*dV_12\n",
    "\n",
    "n_keep = 100\n",
    "start = time.time()\n",
    "total = calc_coulomb_pure_numpy_mix(xyz_1[::n_keep], dens_1[::n_keep], xyz_2[::n_keep], dens_2[::n_keep])\n",
    "total_time = (time.time() - start)*n_keep**2\n",
    "global_timers['pure_numpy_mix'] = (total, total_time)\n",
    "print(f'pure_numpy_mix: {total_time:.2f} s ({total} a.u.)')"
   ]
  },
  {
   "cell_type": "code",
   "execution_count": 6,
   "metadata": {},
   "outputs": [
    {
     "name": "stdout",
     "output_type": "stream",
     "text": [
      "Pure Python Coulomb Integral\n",
      "    Coulomb Integral 0.0 %\n",
      "    Coulomb Integral 20.0 %\n",
      "    Coulomb Integral 40.0 %\n",
      "    Coulomb Integral 60.0 %\n",
      "    Coulomb Integral 80.0 %\n",
      "numpy: 321.96 s (2.7207775039991674e-06 a.u.)\n"
     ]
    }
   ],
   "source": [
    "# def calc_coulomb_pure_python(xyz_1: np.ndarray, dens_1: np.ndarray, xyz_2: np.ndarray, dens_2: np.ndarray):\n",
    "def calc_coulomb_numpy(pts_1, rho_1, pts_2, rho_2):\n",
    "    print(\"Pure Python Coulomb Integral\")\n",
    "\n",
    "    total = 0.0\n",
    "    count = 0\n",
    "    n_pts_1 = len(pts_1)\n",
    "    print_num = n_pts_1//5\n",
    "    for i in range(n_pts_1):\n",
    "        if count % print_num == 0:\n",
    "            print(f\"    Coulomb Integral {(count / n_pts_1*100):.1f} %\")\n",
    "\n",
    "        dr = pts_1[i] - pts_2\n",
    "        r = np.linalg.norm(dr, axis=1)\n",
    "        total += rho_1[i]*np.sum(rho_2/r)\n",
    "        count += 1\n",
    "\n",
    "    return total*dV_12\n",
    "\n",
    "n_keep = 10\n",
    "start = time.time()\n",
    "total = calc_coulomb_numpy(xyz_1[::n_keep], dens_1[::n_keep], xyz_2[::n_keep], dens_2[::n_keep])\n",
    "total_time = (time.time() - start)*n_keep**2\n",
    "global_timers['numpy'] = (total, total_time)\n",
    "print(f'numpy: {total_time:.2f} s ({total} a.u.)')"
   ]
  },
  {
   "cell_type": "code",
   "execution_count": 7,
   "metadata": {},
   "outputs": [
    {
     "name": "stderr",
     "output_type": "stream",
     "text": [
      "/var/folders/yp/v2sr0tq53dl90lkg710rjdyw0000gn/T/ipykernel_23220/838101448.py:1: NumbaDeprecationWarning: The 'nopython' keyword argument was not supplied to the 'numba.jit' decorator. The implicit default value for this argument is currently False, but it will be changed to True in Numba 0.59.0. See https://numba.readthedocs.io/en/stable/reference/deprecation.html#deprecation-of-object-mode-fall-back-behaviour-when-using-jit for details.\n",
      "  @numba.jit()\n"
     ]
    },
    {
     "name": "stdout",
     "output_type": "stream",
     "text": [
      "Pure Python Coulomb Integral\n",
      "numba: 24.81 s (8.56880814588704e-05 a.u.)\n"
     ]
    }
   ],
   "source": [
    "@numba.jit()\n",
    "def calc_coulomb_numba(pts_1, rho_1, pts_2, rho_2):\n",
    "    print(\"Pure Python Coulomb Integral\")\n",
    "\n",
    "    total = 0.0\n",
    "    n_pts_1 = len(pts_1)\n",
    "    n_pts_2 = len(pts_2)\n",
    "    for i in numba.prange(n_pts_1):\n",
    "        for j in range(n_pts_2):\n",
    "\n",
    "            x1, y1, z1 = pts_1[i]\n",
    "            x2, y2, z2 = pts_2[j]\n",
    "            dx = x1 - x2\n",
    "            dy = y1 - y2\n",
    "            dz = z1 - z2\n",
    "            r = sqrt(dx**2 + dy**2 + dz**2)\n",
    "            total += rho_1[i]*rho_2[j]/r\n",
    "            \n",
    "    return total*dV_12\n",
    "\n",
    "n_keep = 1\n",
    "start = time.time()\n",
    "total = calc_coulomb_numba(xyz_1[::n_keep], dens_1[::n_keep], xyz_2[::n_keep], dens_2[::n_keep])\n",
    "total_time = (time.time() - start)*n_keep**2\n",
    "global_timers['numba'] = (total, total_time)\n",
    "print(f'numba: {total_time:.2f} s ({total} a.u.)')"
   ]
  },
  {
   "cell_type": "code",
   "execution_count": 8,
   "metadata": {},
   "outputs": [
    {
     "name": "stderr",
     "output_type": "stream",
     "text": [
      "/var/folders/yp/v2sr0tq53dl90lkg710rjdyw0000gn/T/ipykernel_23220/2146622082.py:1: NumbaDeprecationWarning: The 'nopython' keyword argument was not supplied to the 'numba.jit' decorator. The implicit default value for this argument is currently False, but it will be changed to True in Numba 0.59.0. See https://numba.readthedocs.io/en/stable/reference/deprecation.html#deprecation-of-object-mode-fall-back-behaviour-when-using-jit for details.\n",
      "  @numba.jit(parallel=True)\n",
      "OMP: Info #276: omp_set_nested routine deprecated, please use omp_set_max_active_levels instead.\n"
     ]
    },
    {
     "name": "stdout",
     "output_type": "stream",
     "text": [
      "Pure Python Coulomb Integral\n",
      "numba_parallel: 4.19 s (8.568808148407738e-05 a.u.)\n"
     ]
    }
   ],
   "source": [
    "@numba.jit(parallel=True)\n",
    "def calc_coulomb_numba_parallel(pts_1, rho_1, pts_2, rho_2):\n",
    "    print(\"Pure Python Coulomb Integral\")\n",
    "\n",
    "    total = 0.0\n",
    "    n_pts_1 = len(pts_1)\n",
    "    n_pts_2 = len(pts_2)\n",
    "    for i in numba.prange(n_pts_1):\n",
    "        for j in range(n_pts_2):\n",
    "\n",
    "            x1, y1, z1 = pts_1[i]\n",
    "            x2, y2, z2 = pts_2[j]\n",
    "            dx = x1 - x2\n",
    "            dy = y1 - y2\n",
    "            dz = z1 - z2\n",
    "            r = sqrt(dx**2 + dy**2 + dz**2)\n",
    "            total += rho_1[i]*rho_2[j]/r\n",
    "            \n",
    "    return total*dV_12\n",
    "\n",
    "n_keep = 1\n",
    "start = time.time()\n",
    "numba.set_num_threads(8)\n",
    "total = calc_coulomb_numba_parallel(xyz_1[::n_keep], dens_1[::n_keep], xyz_2[::n_keep], dens_2[::n_keep])\n",
    "total_time = (time.time() - start)*n_keep**2\n",
    "global_timers['numba_parallel'] = (total, total_time)\n",
    "print(f'numba_parallel: {total_time:.2f} s ({total} a.u.)')"
   ]
  },
  {
   "cell_type": "code",
   "execution_count": 10,
   "metadata": {},
   "outputs": [
    {
     "name": "stderr",
     "output_type": "stream",
     "text": [
      "/var/folders/yp/v2sr0tq53dl90lkg710rjdyw0000gn/T/ipykernel_23220/2907448735.py:1: NumbaDeprecationWarning: The 'nopython' keyword argument was not supplied to the 'numba.jit' decorator. The implicit default value for this argument is currently False, but it will be changed to True in Numba 0.59.0. See https://numba.readthedocs.io/en/stable/reference/deprecation.html#deprecation-of-object-mode-fall-back-behaviour-when-using-jit for details.\n",
      "  @numba.jit(parallel=True, fastmath=True)\n"
     ]
    },
    {
     "name": "stdout",
     "output_type": "stream",
     "text": [
      "numba_parallel_numpy: 20.76 s (8.568808148826523e-05 a.u.)\n"
     ]
    }
   ],
   "source": [
    "@numba.jit(parallel=True, fastmath=True)\n",
    "def calc_coulomb_numba_parallel_numpy(coords_1: np.ndarray, cube_data_1: np.ndarray, coords_2: np.ndarray, cube_data_2: np.ndarray):\n",
    "\n",
    "    size_1 = coords_1.shape[0]\n",
    "    total = 0.0\n",
    "    count = 0.0\n",
    "    n_threads = numba.get_num_threads()\n",
    "    for i in numba.prange(size_1):\n",
    "        # if count % 1000 == 0 and numba.get_thread_id() == 0:\n",
    "        #     pct = np.round(100.0*count*n_threads/size_1, 2)\n",
    "        #     print(count*n_threads, size_1, pct)\n",
    "\n",
    "        dr = coords_2 - coords_1[i]\n",
    "        dr2 = dr*dr\n",
    "        r = np.sqrt(dr2[:, 0] + dr2[:, 1] + dr2[:, 2])\n",
    "        total += cube_data_1[i]*np.sum(cube_data_2/r)\n",
    "        count += 1\n",
    "\n",
    "    return total*dV_12\n",
    "\n",
    "n_keep = 1\n",
    "start = time.time()\n",
    "numba.set_num_threads(8)\n",
    "total = calc_coulomb_numba_parallel_numpy(xyz_1[::n_keep], dens_1[::n_keep], xyz_2[::n_keep], dens_2[::n_keep])\n",
    "total_time = (time.time() - start)*n_keep**2\n",
    "global_timers['numba_parallel_numpy'] = (total, total_time)\n",
    "print(f'numba_parallel_numpy: {total_time:.2f} s ({total} a.u.)')"
   ]
  },
  {
   "cell_type": "code",
   "execution_count": 28,
   "metadata": {},
   "outputs": [
    {
     "name": "stdout",
     "output_type": "stream",
     "text": [
      "Thread 0 using indicies  0 4 8 12 ...\n",
      "    Coulomb Integral 0.0 %\n",
      "Thread 1 using indicies  1 5 9 13 ...\n",
      "    Coulomb Integral 0.0 %\n",
      "Thread 2 using indicies  2 6 10 14 ...\n",
      "    Coulomb Integral 0.0 %\n",
      "Thread 3 using indicies  3 7 11 15 ...\n",
      "    Coulomb Integral 0.0 %\n",
      "    Coulomb Integral 20.0 %\n",
      "    Coulomb Integral 20.0 %\n",
      "    Coulomb Integral 20.0 %\n",
      "    Coulomb Integral 20.0 %\n",
      "    Coulomb Integral 40.0 %    Coulomb Integral 40.0 %\n",
      "    Coulomb Integral 40.0 %\n",
      "\n",
      "    Coulomb Integral 40.0 %\n",
      "    Coulomb Integral 60.0 %\n",
      "    Coulomb Integral 60.0 %\n",
      "    Coulomb Integral 60.0 %\n",
      "    Coulomb Integral 60.0 %\n",
      "    Coulomb Integral 80.0 %    Coulomb Integral 80.0 %\n",
      "\n",
      "    Coulomb Integral 80.0 %\n",
      "    Coulomb Integral 80.0 %\n",
      "    Coulomb Integral 100.0 %\n",
      "    Coulomb Integral 100.0 %\n",
      "    Coulomb Integral 100.0 %\n",
      "    Coulomb Integral 100.0 %\n",
      "threaded: 23031.80 s (None a.u.)\n"
     ]
    }
   ],
   "source": [
    "import threading\n",
    "def _coulomb_by_indix(indicies, pts_1, rho_1, pts_2, rho_2):\n",
    "\n",
    "    total = 0.0\n",
    "    count = 0\n",
    "    n_pts_1 = len(indicies)\n",
    "    n_pts_2 = len(pts_2)\n",
    "    n_pts_12 = n_pts_1*n_pts_2\n",
    "    print_num = n_pts_12//5\n",
    "    for i in indicies: # EDIT: loop over specified indicies only\n",
    "        for j in range(n_pts_2):\n",
    "            if count % print_num == 0:\n",
    "                print(f\"    Coulomb Integral {(count / n_pts_12*100):.1f} %\")\n",
    "\n",
    "            x1, y1, z1 = pts_1[i]\n",
    "            x2, y2, z2 = pts_2[j]\n",
    "            dx = x1 - x2\n",
    "            dy = y1 - y2\n",
    "            dz = z1 - z2\n",
    "            \n",
    "            r = sqrt(dx**2 + dy**2 + dz**2)\n",
    "            total += rho_1[i]*rho_2[j]/r\n",
    "            count += 1\n",
    "    return total*dV_12\n",
    "\n",
    "def calc_coulomb_thread(n_threads, pts_1, rho_1, pts_2, rho_2):\n",
    "    total = 0.0\n",
    "    all_threads = []\n",
    "    for n in range(n_threads):\n",
    "        #   these will be the indicies used by the inner Coulomb loop\n",
    "        indicies = np.arange(n, len(pts_1), n_threads)\n",
    "        print(f\"Thread {n} using indicies \", *indicies[0:4], \"...\")\n",
    "        \n",
    "        thread = threading.Thread(target=_coulomb_by_indix, args=(indicies, pts_1, rho_1, pts_2, rho_2))\n",
    "        all_threads.append(thread)\n",
    "        thread.start()\n",
    "\n",
    "    for thread in all_threads:\n",
    "        thread.join()\n",
    "\n",
    "\n",
    "n_keep = 100\n",
    "start = time.time()\n",
    "total = calc_coulomb_thread(4, xyz_1[::n_keep], dens_1[::n_keep], xyz_2[::n_keep], dens_2[::n_keep])\n",
    "total_time = (time.time() - start)*n_keep**2\n",
    "global_timers['threaded'] = (total, total_time)\n",
    "print(f'threaded: {total_time:.2f} s ({total} a.u.)')"
   ]
  },
  {
   "cell_type": "code",
   "execution_count": 31,
   "metadata": {},
   "outputs": [
    {
     "name": "stdout",
     "output_type": "stream",
     "text": [
      "Pure Python Coulomb IntegralPure Python Coulomb IntegralPure Python Coulomb Integral\n",
      "Pure Python Coulomb Integral\n",
      "    Coulomb Integral 0.0 %\n",
      "\n",
      "    Coulomb Integral 0.0 %\n"
     ]
    },
    {
     "name": "stdout",
     "output_type": "stream",
     "text": [
      "    Coulomb Integral 0.0 %    Coulomb Integral 0.0 %\n",
      "\n",
      "\n",
      "    Coulomb Integral 20.0 %\n",
      "    Coulomb Integral 20.0 %\n",
      "    Coulomb Integral 20.0 %\n",
      "    Coulomb Integral 20.0 %\n",
      "    Coulomb Integral 40.0 %\n",
      "    Coulomb Integral 40.0 %\n",
      "    Coulomb Integral 40.0 %\n",
      "    Coulomb Integral 40.0 %\n",
      "    Coulomb Integral 60.0 %\n",
      "    Coulomb Integral 60.0 %\n",
      "    Coulomb Integral 60.0 %\n",
      "    Coulomb Integral 60.0 %\n",
      "    Coulomb Integral 80.0 %    Coulomb Integral 80.0 %\n",
      "\n",
      "    Coulomb Integral 80.0 %\n",
      "    Coulomb Integral 80.0 %\n",
      "multiprocessing: 1460.25 s (None a.u.)\n"
     ]
    }
   ],
   "source": [
    "import multiprocess as mp # use with Jupyter Notebooks\n",
    "#import multiprocess as mp # use with traditional python files\n",
    "\n",
    "def calc_coulomb_MP(n_process, pts_1, rho_1, pts_2, rho_2):\n",
    "    pts_1_split = np.array_split(pts_1, n_process)\n",
    "    rho_1_split = np.array_split(rho_1, n_process)\n",
    "    pts_2_split = np.array_split(pts_2, n_process)\n",
    "    rho_2_split = np.array_split(rho_2, n_process)\n",
    "\n",
    "    with mp.Pool(n_process) as pool:\n",
    "        func_params = zip(pts_1_split, rho_1_split, pts_2_split, rho_2_split)\n",
    "        results = pool.starmap(calc_coulomb_pure_python, func_params)\n",
    "\n",
    "n_keep = 10\n",
    "start = time.time()\n",
    "total = calc_coulomb_MP(4, xyz_1[::n_keep], dens_1[::n_keep], xyz_2[::n_keep], dens_2[::n_keep])\n",
    "total_time = (time.time() - start)*n_keep**2\n",
    "global_timers['multiprocessing'] = (total, total_time)\n",
    "print(f'multiprocessing: {total_time:.2f} s ({total} a.u.)')"
   ]
  },
  {
   "cell_type": "code",
   "execution_count": 35,
   "metadata": {},
   "outputs": [
    {
     "name": "stdout",
     "output_type": "stream",
     "text": [
      "pure_python                  22877.5\n",
      "pure_numpy_mix               34023.7\n",
      "numpy                          322.0\n",
      "numba                           24.8\n",
      "numba_parallel                   4.2\n",
      "numba_parallel_numpy            20.8\n",
      "threaded                     23031.8\n",
      "multiprocessing               1460.3\n"
     ]
    }
   ],
   "source": [
    "for name, val in global_timers.items():\n",
    "    print(f'{name:25s} {val[1]:10.1f}')"
   ]
  }
 ],
 "metadata": {
  "kernelspec": {
   "display_name": "base",
   "language": "python",
   "name": "python3"
  },
  "language_info": {
   "codemirror_mode": {
    "name": "ipython",
    "version": 3
   },
   "file_extension": ".py",
   "mimetype": "text/x-python",
   "name": "python",
   "nbconvert_exporter": "python",
   "pygments_lexer": "ipython3",
   "version": "3.10.13"
  },
  "orig_nbformat": 4
 },
 "nbformat": 4,
 "nbformat_minor": 2
}
